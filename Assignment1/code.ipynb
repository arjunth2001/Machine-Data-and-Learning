{
 "cells": [
  {
   "cell_type": "code",
   "execution_count": 26,
   "metadata": {},
   "outputs": [],
   "source": [
    "import pickle\n",
    "import numpy as np\n",
    "from sklearn.preprocessing import PolynomialFeatures\n",
    "from sklearn.linear_model import LinearRegression\n",
    "import pandas as pd"
   ]
  },
  {
   "cell_type": "code",
   "execution_count": 27,
   "metadata": {},
   "outputs": [],
   "source": [
    "with open('./data/test.pkl', 'rb') as f:\n",
    "    test_data = pickle.load(f)"
   ]
  },
  {
   "cell_type": "code",
   "execution_count": 28,
   "metadata": {},
   "outputs": [],
   "source": [
    "test_data=np.array(test_data)\n",
    "test_x=test_data[:,0]\n",
    "test_y=test_data[:,1]\n"
   ]
  },
  {
   "cell_type": "code",
   "execution_count": 29,
   "metadata": {},
   "outputs": [],
   "source": [
    "with open('./data/train.pkl', 'rb') as f2:\n",
    "    train_data = pickle.load(f2)"
   ]
  },
  {
   "cell_type": "code",
   "execution_count": 30,
   "metadata": {},
   "outputs": [],
   "source": [
    "train_data = np.array(train_data)\n",
    "np.random.shuffle(train_data)\n",
    "models = np.array_split(train_data, 10)\n",
    "train_x=[]\n",
    "train_y=[]\n",
    "for model_num in range(10):\n",
    "    train_x.append(models[model_num][:, 0])\n",
    "    train_y.append(models[model_num][:, 1])\n",
    "train_x =np.array(train_x)\n",
    "train_y=np.array(train_y)\n",
    "bias=[]\n",
    "vari=[]\n",
    "err=[]"
   ]
  },
  {
   "cell_type": "code",
   "execution_count": 31,
   "metadata": {},
   "outputs": [],
   "source": [
    "# outputs\n",
    "output=[]\n",
    "#loop through degrees\n",
    "for degree in range(1,21):\n",
    "    # loop through models\n",
    "    output.append([])\n",
    "    for i in range(10):\n",
    "        x_train = PolynomialFeatures(degree=degree).fit_transform(train_x[i].reshape(-1,1))\n",
    "        x_test = PolynomialFeatures(degree=degree).fit_transform(test_x.reshape(-1,1))\n",
    "        curr_model = LinearRegression().fit(x_train,train_y[i])\n",
    "        output[degree-1].append(curr_model.predict(x_test))"
   ]
  },
  {
   "cell_type": "code",
   "execution_count": 32,
   "metadata": {},
   "outputs": [],
   "source": [
    "def bias_var():\n",
    "    \"\"\"global bias\n",
    "    global bias_sq\n",
    "    global vari\n",
    "    global bias_per_point\n",
    "    global bias_sq_per_point\n",
    "    global vari_per_point\n",
    "    global bias_per_model\n",
    "    global bias_sq_per_model\n",
    "    global vari_per_model\n",
    "    \n",
    "    bias = []\n",
    "    bias_sq = []\n",
    "    vari = []\n",
    "    bias_per_point = []\n",
    "    bias_sq_per_point = []\n",
    "    vari_per_point = []\n",
    "    bias_per_model = []\n",
    "    bias_sq_per_model = []\n",
    "    vari_per_model = []\n",
    "    \n",
    "    actual_f = np.array(test_y)\n",
    "    exp_actual_f = np.mean(actual_f)\n",
    "    \n",
    "    for degree in range(1, 21):\n",
    "        bias_per_point.append([])\n",
    "        bias_sq_per_point.append([])\n",
    "        vari_per_point.append([])\n",
    "        bias_per_model.append([])\n",
    "        bias_sq_per_model.append([])\n",
    "        vari_per_model.append([])\n",
    "        \n",
    "        for i in range(10):\n",
    "            bias_per_point[degree-1].append([])\n",
    "            bias_sq_per_point[degree-1].append([])\n",
    "            vari_per_point[degree-1].append([])\n",
    "            mean_val = np.mean(np.array(output[degree-1][i]))\n",
    "            \n",
    "            for j in range(len(output[degree-1][i])):\n",
    "                bias_per_point[degree-1][i].append(mean_val - actual_f[j])\n",
    "                bias_sq_per_point[degree-1][i].append((mean_val - actual_f[j])**2)\n",
    "                vari_per_point[degree-1][i].append((mean_val - output[degree-1][i][j])**2)\n",
    "            \n",
    "            bias_per_model[degree-1].append(np.mean(np.array(bias_per_point[degree-1][i])))\n",
    "            bias_sq_per_model[degree-1].append(np.mean(np.array(bias_sq_per_point[degree-1][i])))\n",
    "            vari_per_model[degree-1].append(np.mean(np.array(vari_per_point[degree-1][i])))\n",
    "        \n",
    "        bias.append(np.mean(np.array(bias_per_model[degree-1])))\n",
    "        bias_sq.append(np.mean(np.array(bias_sq_per_model[degree-1])))\n",
    "        vari.append(np.mean(np.array(vari_per_model[degree-1])))\"\"\"\n",
    "        \n",
    "            \n",
    "    \"\"\"for degree in range(1,21):\n",
    "        output_curr_degree= output[degree-1]\n",
    "        output_curr_degree=np.array(output_curr_degree)\n",
    "        mean_point_over_10 = np.mean(output_curr_degree, axis = 0)\n",
    "        bias.append(np.mean((mean_point_over_10 - test_y)**2))\n",
    "        var_point_over_10 = np.var(output_curr_degree, axis = 0)\n",
    "        vari.append(np.mean(var_point_over_10))\"\"\"\n",
    "    global bias\n",
    "    global vari\n",
    "    global err\n",
    "    global test_y\n",
    "    bias=[]\n",
    "    vari=[]\n",
    "    err=[]\n",
    "    length=len(test_y)\n",
    "    for degree in range(1,21):\n",
    "        output_curr_degree = output[degree-1]\n",
    "        sum_b=0\n",
    "        sum_v=0\n",
    "        sum_e=0\n",
    "        for i in range(10):\n",
    "            yhat = np.array(output_curr_degree[i])\n",
    "            exp_yhat= np.array([np.mean(yhat)]*length)\n",
    "            y=np.array(test_y)\n",
    "            point_bias_sq=(exp_yhat-y)**2\n",
    "            mean_bias_sq = np.mean(point_bias_sq)\n",
    "            varia = np.var(yhat)\n",
    "            sum_b += mean_bias_sq\n",
    "            sum_v += varia\n",
    "            sum_e += np.mean((y-yhat)**2)-mean_bias_sq-varia\n",
    "        bias.append(sum_b/10)\n",
    "        vari.append(sum_v/10)\n",
    "        err.append(sum_e/10)\n",
    "            \n",
    "            \n",
    "    table = pd.DataFrame({\"Degree\":np.arange(1,21),\"Bias square\": bias,\"Variance\": vari, \"Error\": err})\n",
    "    print(table.to_string(index=False))\n",
    "        \n",
    "    \n",
    "    \n",
    "    "
   ]
  },
  {
   "cell_type": "code",
   "execution_count": 33,
   "metadata": {},
   "outputs": [
    {
     "name": "stdout",
     "output_type": "stream",
     "text": [
      " Degree   Bias square      Variance         Error\n",
      "      1  6.679147e+06  4.791743e+06 -1.043379e+07\n",
      "      2  6.677429e+06  4.908478e+06 -1.057720e+07\n",
      "      3  6.629177e+06  6.996113e+06 -1.352475e+07\n",
      "      4  6.634759e+06  6.964166e+06 -1.346476e+07\n",
      "      5  6.634102e+06  6.968298e+06 -1.344816e+07\n",
      "      6  6.634155e+06  6.953843e+06 -1.340026e+07\n",
      "      7  6.634526e+06  6.921044e+06 -1.333042e+07\n",
      "      8  6.640312e+06  6.916675e+06 -1.330269e+07\n",
      "      9  6.641034e+06  6.959338e+06 -1.330503e+07\n",
      "     10  6.639935e+06  6.923102e+06 -1.329396e+07\n",
      "     11  6.636181e+06  6.959932e+06 -1.332538e+07\n",
      "     12  6.637330e+06  6.939830e+06 -1.328432e+07\n",
      "     13  6.634224e+06  6.989767e+06 -1.333423e+07\n",
      "     14  6.634624e+06  6.899212e+06 -1.323687e+07\n",
      "     15  6.635538e+06  6.888943e+06 -1.318866e+07\n",
      "     16  6.635451e+06  6.884670e+06 -1.317076e+07\n",
      "     17  6.637243e+06  6.818168e+06 -1.304903e+07\n",
      "     18  6.637189e+06  6.823189e+06 -1.303341e+07\n",
      "     19  6.639454e+06  6.713025e+06 -1.285012e+07\n",
      "     20  6.639955e+06  6.721488e+06 -1.282843e+07\n"
     ]
    }
   ],
   "source": [
    "bias_var()"
   ]
  },
  {
   "cell_type": "code",
   "execution_count": null,
   "metadata": {},
   "outputs": [],
   "source": []
  },
  {
   "cell_type": "code",
   "execution_count": null,
   "metadata": {},
   "outputs": [],
   "source": []
  },
  {
   "cell_type": "code",
   "execution_count": null,
   "metadata": {},
   "outputs": [],
   "source": []
  },
  {
   "cell_type": "code",
   "execution_count": null,
   "metadata": {},
   "outputs": [],
   "source": []
  },
  {
   "cell_type": "code",
   "execution_count": null,
   "metadata": {},
   "outputs": [],
   "source": []
  },
  {
   "cell_type": "code",
   "execution_count": null,
   "metadata": {},
   "outputs": [],
   "source": []
  }
 ],
 "metadata": {
  "kernelspec": {
   "display_name": "Python 3",
   "language": "python",
   "name": "python3"
  },
  "language_info": {
   "codemirror_mode": {
    "name": "ipython",
    "version": 3
   },
   "file_extension": ".py",
   "mimetype": "text/x-python",
   "name": "python",
   "nbconvert_exporter": "python",
   "pygments_lexer": "ipython3",
   "version": "3.9.1"
  }
 },
 "nbformat": 4,
 "nbformat_minor": 4
}
