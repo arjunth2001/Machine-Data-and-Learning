{
 "cells": [
  {
   "cell_type": "code",
   "execution_count": 59,
   "metadata": {},
   "outputs": [],
   "source": [
    "import pickle\n",
    "import numpy as np\n",
    "from sklearn.preprocessing import PolynomialFeatures\n",
    "from sklearn.linear_model import LinearRegression\n",
    "import pandas as pd"
   ]
  },
  {
   "cell_type": "code",
   "execution_count": 60,
   "metadata": {},
   "outputs": [],
   "source": [
    "with open('./data/test.pkl', 'rb') as f:\n",
    "    test_data = pickle.load(f)"
   ]
  },
  {
   "cell_type": "code",
   "execution_count": 61,
   "metadata": {},
   "outputs": [],
   "source": [
    "test_data=np.array(test_data)\n",
    "test_x=test_data[:,0]\n",
    "test_y=test_data[:,1]\n"
   ]
  },
  {
   "cell_type": "code",
   "execution_count": 62,
   "metadata": {},
   "outputs": [],
   "source": [
    "with open('./data/train.pkl', 'rb') as f2:\n",
    "    train_data = pickle.load(f2)"
   ]
  },
  {
   "cell_type": "code",
   "execution_count": 63,
   "metadata": {},
   "outputs": [],
   "source": [
    "train_data = np.array(train_data)\n",
    "np.random.shuffle(train_data)\n",
    "train_x=train_data[:,0]\n",
    "train_y=train_data[:,1]\n",
    "train_x=np.array(np.array_split(train_x,10))\n",
    "train_y=np.array(np.array_split(train_y,10))\n",
    "bias=[]\n",
    "vari=[]\n",
    "err=[]\n",
    "ierr=[]"
   ]
  },
  {
   "cell_type": "code",
   "execution_count": 64,
   "metadata": {},
   "outputs": [],
   "source": [
    "# outputs\n",
    "output=[]\n",
    "#loop through degrees\n",
    "for degree in range(1,21):\n",
    "    # loop through models\n",
    "    output.append([])\n",
    "    for i in range(10):\n",
    "        x_train = PolynomialFeatures(degree=degree).fit_transform(train_x[i].reshape(-1,1))\n",
    "        x_test = PolynomialFeatures(degree=degree).fit_transform(test_x.reshape(-1,1))\n",
    "        curr_model = LinearRegression().fit(x_train,train_y[i])\n",
    "        output[degree-1].append(curr_model.predict(x_test))"
   ]
  },
  {
   "cell_type": "code",
   "execution_count": 65,
   "metadata": {},
   "outputs": [],
   "source": [
    "def bias_var():\n",
    "    global bias\n",
    "    global vari\n",
    "    global err\n",
    "    bias=[]\n",
    "    vari=[]\n",
    "    err=[]\n",
    "    ierr=[]\n",
    "    for degree in range(1,21):\n",
    "        output_curr_degree= output[degree-1]\n",
    "        output_curr_degree=np.array(output_curr_degree)\n",
    "        mean_point_over_10 = np.mean(output_curr_degree, axis = 0)\n",
    "        bias.append(np.mean((mean_point_over_10 - test_y)))\n",
    "        var_point_over_10 = np.var(output_curr_degree, axis = 0)\n",
    "        vari.append(np.mean(var_point_over_10))\n",
    "        err_a= np.array(output_curr_degree)-np.array(test_y)\n",
    "        err_a=np.square(err_a)\n",
    "        err_mean = np.mean(err_a, axis=0)\n",
    "        err.append(np.mean(err_mean))\n",
    "        ierr.append(err[degree-1] - (bias[degree-1]**2) - vari[degree-1])\n",
    "        \n",
    "    table = pd.DataFrame({\"Degree\":np.array(range(1,21)),\"Bias\": bias,\"Bias Square\": np.array(bias)**2 ,\"Variance\": vari, \"Mean Squared Error\": err, \"Irreducible Error\": ierr})\n",
    "    print(table.to_string(index=False))\n",
    "    return table\n",
    "        \n",
    "    \n",
    "    \n",
    "    "
   ]
  },
  {
   "cell_type": "code",
   "execution_count": 66,
   "metadata": {},
   "outputs": [
    {
     "name": "stdout",
     "output_type": "stream",
     "text": [
      " Degree        Bias   Bias Square       Variance  Mean Squared Error  Irreducible Error\n",
      "      1  230.721061  53232.208092   35317.339415        1.038054e+06      949504.523620\n",
      "      2  226.695944  51391.051087   70052.164260        1.024300e+06      902856.800084\n",
      "      3  -13.255548    175.709563   73068.151528        8.222495e+04        8981.085621\n",
      "      4   -5.360691     28.737009   91272.706194        9.995672e+04        8655.280650\n",
      "      5   -3.573963     12.773212  108899.448529        1.173794e+05        8467.153045\n",
      "      6   -5.466334     29.880807  119637.081796        1.285115e+05        8844.555520\n",
      "      7   -4.029193     16.234399  146398.853171        1.559825e+05        9567.402475\n",
      "      8   -8.336483     69.496954  166308.714700        1.757214e+05        9343.218992\n",
      "      9   -6.394326     40.887408  195277.997910        2.049772e+05        9658.344881\n",
      "     10   -8.990033     80.820686  206639.666052        2.177316e+05       11011.118980\n",
      "     11  -13.818541    190.952074  217655.144404        2.291763e+05       11330.185723\n",
      "     12   -5.681698     32.281688  265626.255964        2.957425e+05       30083.939227\n",
      "     13  -21.334615    455.165799  259122.686306        2.773739e+05       17796.088249\n",
      "     14  -28.446487    809.202611  271202.462918        3.139104e+05       41898.742613\n",
      "     15  -37.755760   1425.497432  288585.771952        3.598377e+05       69826.436862\n",
      "     16  -39.939609   1595.172396  307859.106714        3.952926e+05       85838.330078\n",
      "     17  -52.113242   2715.790007  314954.352679        4.535413e+05      135871.178588\n",
      "     18  -55.626984   3094.361298  326561.077652        4.817925e+05      152137.012873\n",
      "     19  -69.185801   4786.675045  329235.611704        5.601358e+05      226113.495591\n",
      "     20  -73.364926   5382.412347  339166.279073        5.881600e+05      243611.321048\n"
     ]
    }
   ],
   "source": [
    "table = bias_var()"
   ]
  },
  {
   "cell_type": "code",
   "execution_count": 67,
   "metadata": {},
   "outputs": [
    {
     "data": {
      "image/png": "[encoded data removed]",
      "text/plain": [
       "<Figure size 432x288 with 1 Axes>"
      ]
     },
     "metadata": {
      "needs_background": "light"
     },
     "output_type": "display_data"
    }
   ],
   "source": [
    "import matplotlib.pyplot as plt\n",
    "plt.plot(np.array(range(1,21)),table[\"Bias Square\"].tolist(),label=\"Bias Square\")\n",
    "plt.plot(np.array(range(1,21)),table[\"Variance\"].tolist(),label=\"Variance\")\n",
    "plt.plot(np.array(range(1,21)),table[\"Mean Squared Error\"].tolist(), label=\"Mean Squared Error\")\n",
    "plt.plot(np.array(range(1,21)),table[\"Irreducible Error\"].tolist(), label=\"Irreducible Error\")\n",
    "plt.legend()\n",
    "plt.show()"
   ]
  },
  {
   "cell_type": "code",
   "execution_count": null,
   "metadata": {},
   "outputs": [],
   "source": []
  }
 ],
 "metadata": {
  "kernelspec": {
   "display_name": "Python 3",
   "language": "python",
   "name": "python3"
  },
  "language_info": {
   "codemirror_mode": {
    "name": "ipython",
    "version": 3
   },
   "file_extension": ".py",
   "mimetype": "text/x-python",
   "name": "python",
   "nbconvert_exporter": "python",
   "pygments_lexer": "ipython3",
   "version": "3.9.1"
  }
 },
 "nbformat": 4,
 "nbformat_minor": 4
}
