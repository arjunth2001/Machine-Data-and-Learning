{
 "cells": [
  {
   "cell_type": "code",
   "execution_count": 1,
   "metadata": {},
   "outputs": [],
   "source": [
    "import pickle\n",
    "import numpy as np\n",
    "from sklearn.preprocessing import PolynomialFeatures\n",
    "from sklearn.linear_model import LinearRegression\n",
    "import pandas as pd"
   ]
  },
  {
   "cell_type": "code",
   "execution_count": 2,
   "metadata": {},
   "outputs": [],
   "source": [
    "with open('./data/test.pkl', 'rb') as f:\n",
    "    test_data = pickle.load(f)"
   ]
  },
  {
   "cell_type": "code",
   "execution_count": 3,
   "metadata": {},
   "outputs": [],
   "source": [
    "test_data=np.array(test_data)\n",
    "test_x=test_data[:,0]\n",
    "test_y=test_data[:,1]\n"
   ]
  },
  {
   "cell_type": "code",
   "execution_count": 4,
   "metadata": {},
   "outputs": [],
   "source": [
    "with open('./data/train.pkl', 'rb') as f2:\n",
    "    train_data = pickle.load(f2)"
   ]
  },
  {
   "cell_type": "code",
   "execution_count": 5,
   "metadata": {},
   "outputs": [],
   "source": [
    "train_data = np.array(train_data)\n",
    "np.random.shuffle(train_data)\n",
    "models = np.array_split(train_data, 10)\n",
    "train_x=[]\n",
    "train_y=[]\n",
    "for model_num in range(10):\n",
    "    train_x.append(models[model_num][:, 0])\n",
    "    train_y.append(models[model_num][:, 1])\n",
    "train_x =np.array(train_x)\n",
    "train_y=np.array(train_y)\n",
    "bias=[]\n",
    "vari=[]\n",
    "err=[]\n",
    "ierr=[]"
   ]
  },
  {
   "cell_type": "code",
   "execution_count": 6,
   "metadata": {},
   "outputs": [],
   "source": [
    "# outputs\n",
    "output=[]\n",
    "#loop through degrees\n",
    "for degree in range(1,21):\n",
    "    # loop through models\n",
    "    output.append([])\n",
    "    for i in range(10):\n",
    "        x_train = PolynomialFeatures(degree=degree).fit_transform(train_x[i].reshape(-1,1))\n",
    "        x_test = PolynomialFeatures(degree=degree).fit_transform(test_x.reshape(-1,1))\n",
    "        curr_model = LinearRegression().fit(x_train,train_y[i])\n",
    "        output[degree-1].append(curr_model.predict(x_test))"
   ]
  },
  {
   "cell_type": "code",
   "execution_count": 7,
   "metadata": {},
   "outputs": [],
   "source": [
    "def bias_var():\n",
    "    global bias\n",
    "    global vari\n",
    "    global err\n",
    "    bias=[]\n",
    "    vari=[]\n",
    "    err=[]\n",
    "    ierr=[]\n",
    "    for degree in range(1,21):\n",
    "        output_curr_degree= output[degree-1]\n",
    "        output_curr_degree=np.array(output_curr_degree)\n",
    "        mean_point_over_10 = np.mean(output_curr_degree, axis = 0)\n",
    "        bias.append(np.mean((mean_point_over_10 - test_y)))\n",
    "        var_point_over_10 = np.var(output_curr_degree, axis = 0)\n",
    "        vari.append(np.mean(var_point_over_10))\n",
    "        err_a= np.array(output_curr_degree)-np.array(test_y)\n",
    "        err_a=np.square(err_a)\n",
    "        err_mean = np.mean(err_a, axis=0)\n",
    "        #ierr.append(np.mean(err_mean - (mean_point_over_10 - test_y)**2 - var_point_over_10))\n",
    "        err.append(np.mean(err_mean))\n",
    "        ierr.append(err[degree-1] - (bias[degree-1]**2) - vari[degree-1])\n",
    "        \n",
    "    table = pd.DataFrame({\"Degree\":np.array(range(1,21)),\"Bias square\": bias,\"Variance\": vari, \"Mean Squared Error\": err, \"Irreducible Error\": ierr})\n",
    "    print(table.to_string(index=False))\n",
    "    return table\n",
    "        \n",
    "    \n",
    "    \n",
    "    "
   ]
  },
  {
   "cell_type": "code",
   "execution_count": 8,
   "metadata": {},
   "outputs": [
    {
     "name": "stdout",
     "output_type": "stream",
     "text": [
      " Degree  Bias square      Variance  Mean Squared Error  Irreducible Error\n",
      "      1   232.316081  19264.229496        1.022464e+06      949228.702776\n",
      "      2   229.153710  44618.051992        1.001482e+06      904352.562565\n",
      "      3   -12.108891  60339.700383        6.877610e+04        8289.778370\n",
      "      4    -6.020042  91599.918086        1.002120e+05        8575.804527\n",
      "      5    -4.530214 119495.341063        1.268187e+05        7302.819081\n",
      "      6    -3.940423 143027.133887        1.501833e+05        7140.627806\n",
      "      7    -0.007813 155858.282542        1.633856e+05        7527.314159\n",
      "      8    -2.202517 177988.937421        1.854681e+05        7474.270732\n",
      "      9    -2.836502 217466.230953        2.247945e+05        7320.240442\n",
      "     10    -1.423161 186501.864718        1.947219e+05        8218.054693\n",
      "     11    -4.527756 235978.739748        2.436897e+05        7690.493330\n",
      "     12     1.442792 208958.807084        2.261342e+05       17173.321767\n",
      "     13   -11.698612 234107.474917        2.450039e+05       10759.574682\n",
      "     14   -18.245046 227747.813362        2.534889e+05       25408.207669\n",
      "     15   -29.206470 239928.900936        2.911178e+05       50335.927752\n",
      "     16   -29.341671 242607.677761        2.986942e+05       55225.616922\n",
      "     17   -43.599516 246430.243684        3.497053e+05      101374.138536\n",
      "     18   -44.363208 254468.226581        3.624096e+05      105973.277731\n",
      "     19   -59.580935 253861.126008        4.336286e+05      176217.572710\n",
      "     20   -61.359920 266967.909205        4.523498e+05      181616.810591\n"
     ]
    }
   ],
   "source": [
    "table = bias_var()"
   ]
  },
  {
   "cell_type": "code",
   "execution_count": 9,
   "metadata": {},
   "outputs": [
    {
     "data": {
      "image/png": "[encoded data removed]",
      "text/plain": [
       "<Figure size 432x288 with 1 Axes>"
      ]
     },
     "metadata": {
      "needs_background": "light"
     },
     "output_type": "display_data"
    }
   ],
   "source": [
    "import matplotlib.pyplot as plt\n",
    "plt.plot(np.array(range(1,21)),table[\"Bias square\"].tolist(),label=\"Bias Square\")\n",
    "plt.plot(np.array(range(1,21)),table[\"Variance\"].tolist(),label=\"Variance\")\n",
    "plt.plot(np.array(range(1,21)),table[\"Mean Squared Error\"].tolist(), label=\"Mean Squared Error\")\n",
    "plt.plot(np.array(range(1,21)),table[\"Irreducible Error\"].tolist(), label=\"Irreducible Error\")\n",
    "plt.legend()\n",
    "plt.show()"
   ]
  },
  {
   "cell_type": "code",
   "execution_count": null,
   "metadata": {},
   "outputs": [],
   "source": []
  }
 ],
 "metadata": {
  "kernelspec": {
   "display_name": "Python 3",
   "language": "python",
   "name": "python3"
  },
  "language_info": {
   "codemirror_mode": {
    "name": "ipython",
    "version": 3
   },
   "file_extension": ".py",
   "mimetype": "text/x-python",
   "name": "python",
   "nbconvert_exporter": "python",
   "pygments_lexer": "ipython3",
   "version": "3.8.0"
  }
 },
 "nbformat": 4,
 "nbformat_minor": 4
}
