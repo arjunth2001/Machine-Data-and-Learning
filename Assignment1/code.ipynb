{
 "cells": [
  {
   "cell_type": "code",
   "execution_count": 28,
   "metadata": {},
   "outputs": [],
   "source": [
    "import pickle\n",
    "import numpy as np\n",
    "from sklearn.preprocessing import PolynomialFeatures\n",
    "from sklearn.linear_model import LinearRegression\n",
    "import pandas as pd"
   ]
  },
  {
   "cell_type": "code",
   "execution_count": 29,
   "metadata": {},
   "outputs": [],
   "source": [
    "with open('./data/test.pkl', 'rb') as f:\n",
    "    test_data = pickle.load(f)"
   ]
  },
  {
   "cell_type": "code",
   "execution_count": 30,
   "metadata": {},
   "outputs": [],
   "source": [
    "test_data=np.array(test_data)\n",
    "test_x=test_data[:,0]\n",
    "test_y=test_data[:,1]\n"
   ]
  },
  {
   "cell_type": "code",
   "execution_count": 31,
   "metadata": {},
   "outputs": [],
   "source": [
    "with open('./data/train.pkl', 'rb') as f2:\n",
    "    train_data = pickle.load(f2)"
   ]
  },
  {
   "cell_type": "code",
   "execution_count": 32,
   "metadata": {},
   "outputs": [],
   "source": [
    "train_data = np.array(train_data)\n",
    "np.random.shuffle(train_data)\n",
    "models = np.array_split(train_data, 10)\n",
    "train_x=[]\n",
    "train_y=[]\n",
    "for model_num in range(10):\n",
    "    train_x.append(models[model_num][:, 0])\n",
    "    train_y.append(models[model_num][:, 1])\n",
    "train_x =np.array(train_x)\n",
    "train_y=np.array(train_y)\n",
    "bias=[]\n",
    "vari=[]"
   ]
  },
  {
   "cell_type": "code",
   "execution_count": 33,
   "metadata": {},
   "outputs": [],
   "source": [
    "# outputs\n",
    "output=[]\n",
    "#loop through degrees\n",
    "for degree in range(1,21):\n",
    "    # loop through models\n",
    "    output.append([])\n",
    "    for i in range(10):\n",
    "        x_train = PolynomialFeatures(degree=degree).fit_transform(train_x[i].reshape(-1,1))\n",
    "        x_test = PolynomialFeatures(degree=degree).fit_transform(test_x.reshape(-1,1))\n",
    "        curr_model = LinearRegression().fit(x_train,train_y[i])\n",
    "        output[degree-1].append(curr_model.predict(x_test))"
   ]
  },
  {
   "cell_type": "code",
   "execution_count": 36,
   "metadata": {},
   "outputs": [],
   "source": [
    "def bias_var():\n",
    "    global bias\n",
    "    global vari\n",
    "    bias=[]\n",
    "    vari=[]\n",
    "    for degree in range(1,21):\n",
    "        output_curr_degree= output[degree-1]\n",
    "        output_curr_degree=np.array(output_curr_degree)\n",
    "        mean_point_over_10 = np.mean(output_curr_degree, axis = 0)\n",
    "        bias.append(np.mean((mean_point_over_10 - test_y)**2))\n",
    "        var_point_over_10 = np.var(output_curr_degree, axis = 0)\n",
    "        vari.append(np.mean(var_point_over_10))\n",
    "    table = pd.DataFrame({\"Degree\":np.array(range(1,21)),\"Bias square\": bias,\"Variance\": vari})\n",
    "    print(table.to_string(index=False))\n",
    "        \n",
    "    \n",
    "    \n",
    "    "
   ]
  },
  {
   "cell_type": "code",
   "execution_count": 37,
   "metadata": {},
   "outputs": [
    {
     "name": "stdout",
     "output_type": "stream",
     "text": [
      " Degree   Bias square       Variance\n",
      "      1  1.002194e+06   32872.926427\n",
      "      2  9.540650e+05   37299.476567\n",
      "      3  1.021404e+04   61263.828510\n",
      "      4  9.402297e+03   68850.085975\n",
      "      5  8.258596e+03   81886.435249\n",
      "      6  8.297737e+03  100844.915766\n",
      "      7  9.383081e+03  117324.872381\n",
      "      8  9.235153e+03  143905.869765\n",
      "      9  9.002842e+03  166350.005653\n",
      "     10  8.878465e+03  166691.382990\n",
      "     11  8.103970e+03  188515.360810\n",
      "     12  1.927947e+04  178292.260981\n",
      "     13  1.031194e+04  179512.553125\n",
      "     14  2.789584e+04  181396.996199\n",
      "     15  5.314048e+04  178427.876427\n",
      "     16  5.835310e+04  184851.405249\n",
      "     17  1.046601e+05  183902.465462\n",
      "     18  1.088515e+05  201561.845026\n",
      "     19  1.791777e+05  206554.048485\n",
      "     20  1.829982e+05  233425.509357\n"
     ]
    }
   ],
   "source": [
    "bias_var()"
   ]
  },
  {
   "cell_type": "code",
   "execution_count": null,
   "metadata": {},
   "outputs": [],
   "source": []
  }
 ],
 "metadata": {
  "kernelspec": {
   "display_name": "Python 3",
   "language": "python",
   "name": "python3"
  },
  "language_info": {
   "codemirror_mode": {
    "name": "ipython",
    "version": 3
   },
   "file_extension": ".py",
   "mimetype": "text/x-python",
   "name": "python",
   "nbconvert_exporter": "python",
   "pygments_lexer": "ipython3",
   "version": "3.9.1"
  }
 },
 "nbformat": 4,
 "nbformat_minor": 4
}
