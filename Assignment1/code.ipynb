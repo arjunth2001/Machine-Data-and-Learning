{
 "cells": [
  {
   "cell_type": "code",
   "execution_count": 1,
   "metadata": {},
   "outputs": [],
   "source": [
    "import pickle\n",
    "import numpy as np\n",
    "from sklearn.preprocessing import PolynomialFeatures\n",
    "from sklearn.linear_model import LinearRegression\n",
    "import pandas as pd"
   ]
  },
  {
   "cell_type": "code",
   "execution_count": 2,
   "metadata": {},
   "outputs": [],
   "source": [
    "with open('./data/test.pkl', 'rb') as f:\n",
    "    test_data = pickle.load(f)"
   ]
  },
  {
   "cell_type": "code",
   "execution_count": 3,
   "metadata": {},
   "outputs": [],
   "source": [
    "test_data=np.array(test_data)\n",
    "test_x=test_data[:,0]\n",
    "test_y=test_data[:,1]\n"
   ]
  },
  {
   "cell_type": "code",
   "execution_count": 4,
   "metadata": {},
   "outputs": [],
   "source": [
    "with open('./data/train.pkl', 'rb') as f2:\n",
    "    train_data = pickle.load(f2)"
   ]
  },
  {
   "cell_type": "code",
   "execution_count": 5,
   "metadata": {},
   "outputs": [],
   "source": [
    "train_data = np.array(train_data)\n",
    "np.random.shuffle(train_data)\n",
    "models = np.array_split(train_data, 10)\n",
    "train_x=[]\n",
    "train_y=[]\n",
    "for model_num in range(10):\n",
    "    train_x.append(models[model_num][:, 0])\n",
    "    train_y.append(models[model_num][:, 1])\n",
    "train_x =np.array(train_x)\n",
    "train_y=np.array(train_y)\n",
    "bias=[]\n",
    "vari=[]\n",
    "err=[]"
   ]
  },
  {
   "cell_type": "code",
   "execution_count": 6,
   "metadata": {},
   "outputs": [],
   "source": [
    "# outputs\n",
    "output=[]\n",
    "#loop through degrees\n",
    "for degree in range(1,21):\n",
    "    # loop through models\n",
    "    output.append([])\n",
    "    for i in range(10):\n",
    "        x_train = PolynomialFeatures(degree=degree).fit_transform(train_x[i].reshape(-1,1))\n",
    "        x_test = PolynomialFeatures(degree=degree).fit_transform(test_x.reshape(-1,1))\n",
    "        curr_model = LinearRegression().fit(x_train,train_y[i])\n",
    "        output[degree-1].append(curr_model.predict(x_test))"
   ]
  },
  {
   "cell_type": "code",
   "execution_count": 7,
   "metadata": {},
   "outputs": [],
   "source": [
    "def bias_var():\n",
    "    global bias\n",
    "    global vari\n",
    "    global err\n",
    "    global test_y\n",
    "    bias=[]\n",
    "    vari=[]\n",
    "    err=[]\n",
    "    length=len(test_y)\n",
    "    for degree in range(1,21):\n",
    "        b = []\n",
    "        v = []\n",
    "        e = []  \n",
    "        output_curr_degree = output[degree-1]\n",
    "        \n",
    "        for i in range(10):\n",
    "            yhat = np.array(output_curr_degree[i])\n",
    "            exp_yhat= np.array([np.mean(yhat)]*length)\n",
    "            y=np.array(test_y)\n",
    "            point_bias_sq=(exp_yhat-y)**2\n",
    "            mean_bias_sq = np.mean(point_bias_sq)\n",
    "            varia = np.var(yhat)\n",
    "            b.append(mean_bias_sq)\n",
    "            v.append(varia)\n",
    "            e.append(np.mean((y-yhat)**2) - point_bias_sq - (np.array([varia]*length)))\n",
    "        bias.append(np.mean(np.array(b)))\n",
    "        vari.append(np.mean(np.array(v)))\n",
    "        err.append(np.mean(np.array(e)))\n",
    "            \n",
    "            \n",
    "    table = pd.DataFrame({\"Degree\":np.arange(1,21),\"Bias square\": bias,\"Variance\": vari, \"Error\": err})\n",
    "    print(table.to_string(index=False))\n",
    "        \n",
    "    \n",
    "    \n",
    "    "
   ]
  },
  {
   "cell_type": "code",
   "execution_count": 8,
   "metadata": {},
   "outputs": [
    {
     "name": "stdout",
     "output_type": "stream",
     "text": [
      " Degree  Bias square     Variance         Error\n",
      "      1 6.670671e+06 4.773975e+06 -1.042066e+07\n",
      "      2 6.669081e+06 4.917848e+06 -1.057801e+07\n",
      "      3 6.618092e+06 6.996213e+06 -1.354904e+07\n",
      "      4 6.618187e+06 6.959484e+06 -1.350231e+07\n",
      "      5 6.618000e+06 6.961165e+06 -1.348815e+07\n",
      "      6 6.618384e+06 6.959239e+06 -1.346480e+07\n",
      "      7 6.618577e+06 6.930913e+06 -1.341911e+07\n",
      "      8 6.616531e+06 6.950891e+06 -1.342723e+07\n",
      "      9 6.616836e+06 7.040878e+06 -1.347322e+07\n",
      "     10 6.615974e+06 7.038818e+06 -1.346845e+07\n",
      "     11 6.615529e+06 7.082581e+06 -1.349133e+07\n",
      "     12 6.615442e+06 7.053116e+06 -1.343928e+07\n",
      "     13 6.614735e+06 7.081737e+06 -1.347082e+07\n",
      "     14 6.615349e+06 7.025334e+06 -1.340136e+07\n",
      "     15 6.616387e+06 6.968809e+06 -1.332485e+07\n",
      "     16 6.616232e+06 6.941305e+06 -1.328639e+07\n",
      "     17 6.617580e+06 6.838376e+06 -1.314289e+07\n",
      "     18 6.617676e+06 6.806803e+06 -1.309711e+07\n",
      "     19 6.619269e+06 6.683685e+06 -1.290434e+07\n",
      "     20 6.619754e+06 6.648732e+06 -1.284762e+07\n"
     ]
    }
   ],
   "source": [
    "bias_var()"
   ]
  },
  {
   "cell_type": "code",
   "execution_count": null,
   "metadata": {},
   "outputs": [],
   "source": []
  },
  {
   "cell_type": "code",
   "execution_count": null,
   "metadata": {},
   "outputs": [],
   "source": []
  },
  {
   "cell_type": "code",
   "execution_count": null,
   "metadata": {},
   "outputs": [],
   "source": []
  },
  {
   "cell_type": "code",
   "execution_count": null,
   "metadata": {},
   "outputs": [],
   "source": []
  },
  {
   "cell_type": "code",
   "execution_count": null,
   "metadata": {},
   "outputs": [],
   "source": []
  },
  {
   "cell_type": "code",
   "execution_count": null,
   "metadata": {},
   "outputs": [],
   "source": []
  }
 ],
 "metadata": {
  "kernelspec": {
   "display_name": "Python 3",
   "language": "python",
   "name": "python3"
  },
  "language_info": {
   "codemirror_mode": {
    "name": "ipython",
    "version": 3
   },
   "file_extension": ".py",
   "mimetype": "text/x-python",
   "name": "python",
   "nbconvert_exporter": "python",
   "pygments_lexer": "ipython3",
   "version": "3.8.0"
  }
 },
 "nbformat": 4,
 "nbformat_minor": 4
}
