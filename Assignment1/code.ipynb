{
 "cells": [
  {
   "cell_type": "code",
   "execution_count": 36,
   "metadata": {},
   "outputs": [],
   "source": [
    "import pickle\n",
    "import numpy as np\n",
    "from sklearn.preprocessing import PolynomialFeatures\n",
    "from sklearn.linear_model import LinearRegression\n",
    "import pandas as pd"
   ]
  },
  {
   "cell_type": "code",
   "execution_count": 37,
   "metadata": {},
   "outputs": [],
   "source": [
    "with open('./data/test.pkl', 'rb') as f:\n",
    "    test_data = pickle.load(f)"
   ]
  },
  {
   "cell_type": "code",
   "execution_count": 38,
   "metadata": {},
   "outputs": [],
   "source": [
    "test_data=np.array(test_data)\n",
    "test_x=test_data[:,0]\n",
    "test_y=test_data[:,1]\n"
   ]
  },
  {
   "cell_type": "code",
   "execution_count": 39,
   "metadata": {},
   "outputs": [],
   "source": [
    "with open('./data/train.pkl', 'rb') as f2:\n",
    "    train_data = pickle.load(f2)"
   ]
  },
  {
   "cell_type": "code",
   "execution_count": 40,
   "metadata": {},
   "outputs": [],
   "source": [
    "train_data = np.array(train_data)\n",
    "np.random.shuffle(train_data)\n",
    "models = np.array_split(train_data, 10)\n",
    "train_x=[]\n",
    "train_y=[]\n",
    "for model_num in range(10):\n",
    "    train_x.append(models[model_num][:, 0])\n",
    "    train_y.append(models[model_num][:, 1])\n",
    "train_x =np.array(train_x)\n",
    "train_y=np.array(train_y)\n",
    "bias=[]\n",
    "vari=[]\n",
    "err=[]"
   ]
  },
  {
   "cell_type": "code",
   "execution_count": 41,
   "metadata": {},
   "outputs": [],
   "source": [
    "# outputs\n",
    "output=[]\n",
    "#loop through degrees\n",
    "for degree in range(1,21):\n",
    "    # loop through models\n",
    "    output.append([])\n",
    "    for i in range(10):\n",
    "        x_train = PolynomialFeatures(degree=degree).fit_transform(train_x[i].reshape(-1,1))\n",
    "        x_test = PolynomialFeatures(degree=degree).fit_transform(test_x.reshape(-1,1))\n",
    "        curr_model = LinearRegression().fit(x_train,train_y[i])\n",
    "        output[degree-1].append(curr_model.predict(x_test))"
   ]
  },
  {
   "cell_type": "code",
   "execution_count": 51,
   "metadata": {},
   "outputs": [],
   "source": [
    "def bias_var():\n",
    "    global bias\n",
    "    global vari\n",
    "    global err\n",
    "    bias=[]\n",
    "    vari=[]\n",
    "    err=[]\n",
    "    for degree in range(1,21):\n",
    "        output_curr_degree= output[degree-1]\n",
    "        output_curr_degree=np.array(output_curr_degree)\n",
    "        mean_point_over_10 = np.mean(output_curr_degree, axis = 0)\n",
    "        bias.append(np.mean((mean_point_over_10 - test_y)**2))\n",
    "        var_point_over_10 = np.var(output_curr_degree, axis = 0)\n",
    "        vari.append(np.mean(var_point_over_10))\n",
    "        err_a= np.array(output_curr_degree)-np.array(test_y)\n",
    "        err_a=np.square(err_a)\n",
    "        err_mean = np.mean(err_a, axis=0)\n",
    "        err.append(np.mean(err_mean))\n",
    "        \n",
    "    table = pd.DataFrame({\"Degree\":np.array(range(1,21)),\"Bias square\": bias,\"Variance\": vari, \"Error\": err})\n",
    "    print(table.to_string(index=False))\n",
    "    return table\n",
    "        \n",
    "    \n",
    "    \n",
    "    "
   ]
  },
  {
   "cell_type": "code",
   "execution_count": 52,
   "metadata": {},
   "outputs": [
    {
     "name": "stdout",
     "output_type": "stream",
     "text": [
      " Degree   Bias square       Variance         Error\n",
      "      1  1.004039e+06   34154.179452  1.038193e+06\n",
      "      2  9.556302e+05   65147.344285  1.020778e+06\n",
      "      3  9.493713e+03   63580.125835  7.307384e+04\n",
      "      4  9.910111e+03   92827.487461  1.027376e+05\n",
      "      5  8.368208e+03  102125.076758  1.104933e+05\n",
      "      6  7.426580e+03  123216.166131  1.306427e+05\n",
      "      7  8.640023e+03  138336.653040  1.469767e+05\n",
      "      8  9.070789e+03  163556.797382  1.726276e+05\n",
      "      9  9.001263e+03  179643.029195  1.886443e+05\n",
      "     10  9.295775e+03  191263.640488  2.005594e+05\n",
      "     11  9.191673e+03  218736.412597  2.279281e+05\n",
      "     12  1.868105e+04  205453.521027  2.241346e+05\n",
      "     13  1.120533e+04  250682.837990  2.618882e+05\n",
      "     14  2.797755e+04  212454.190374  2.404317e+05\n",
      "     15  5.205774e+04  236155.982013  2.882137e+05\n",
      "     16  5.728797e+04  225262.412013  2.825504e+05\n",
      "     17  1.025964e+05  251240.058485  3.538365e+05\n",
      "     18  1.082427e+05  244236.870407  3.524795e+05\n",
      "     19  1.783607e+05  274580.681470  4.529414e+05\n",
      "     20  1.848649e+05  272247.409965  4.571123e+05\n"
     ]
    }
   ],
   "source": [
    "table = bias_var()"
   ]
  },
  {
   "cell_type": "code",
   "execution_count": 53,
   "metadata": {},
   "outputs": [
    {
     "data": {
      "image/png": "[encoded data removed]",
      "text/plain": [
       "<Figure size 432x288 with 1 Axes>"
      ]
     },
     "metadata": {
      "needs_background": "light"
     },
     "output_type": "display_data"
    }
   ],
   "source": [
    "import matplotlib.pyplot as plt\n",
    "plt.scatter(np.array(range(1,21)),table[\"Bias square\"].tolist(),label=\"Bias Square\")\n",
    "plt.scatter(np.array(range(1,21)),table[\"Variance\"].tolist(),label=\"Variance\")\n",
    "plt.scatter(np.array(range(1,21)),table[\"Error\"].tolist(), label=\"Error\")\n",
    "plt.legend()\n",
    "plt.show()"
   ]
  },
  {
   "cell_type": "code",
   "execution_count": null,
   "metadata": {},
   "outputs": [],
   "source": []
  }
 ],
 "metadata": {
  "kernelspec": {
   "display_name": "Python 3",
   "language": "python",
   "name": "python3"
  },
  "language_info": {
   "codemirror_mode": {
    "name": "ipython",
    "version": 3
   },
   "file_extension": ".py",
   "mimetype": "text/x-python",
   "name": "python",
   "nbconvert_exporter": "python",
   "pygments_lexer": "ipython3",
   "version": "3.9.1"
  }
 },
 "nbformat": 4,
 "nbformat_minor": 4
}
