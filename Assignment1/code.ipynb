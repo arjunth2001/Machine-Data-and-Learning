{
 "cells": [
  {
   "cell_type": "code",
   "execution_count": 22,
   "metadata": {},
   "outputs": [],
   "source": [
    "import pickle\n",
    "import numpy as np\n",
    "from sklearn.preprocessing import PolynomialFeatures\n",
    "from sklearn.linear_model import LinearRegression\n",
    "import pandas as pd"
   ]
  },
  {
   "cell_type": "code",
   "execution_count": null,
   "metadata": {},
   "outputs": [],
   "source": [
    "with open('./data/test.pkl', 'rb') as f:\n",
    "    test_data = pickle.load(f)"
   ]
  },
  {
   "cell_type": "code",
   "execution_count": null,
   "metadata": {},
   "outputs": [],
   "source": [
    "test_data=np.array(test_data)\n",
    "test_x=test_data[:,0]\n",
    "test_y=test_data[:,1]\n"
   ]
  },
  {
   "cell_type": "code",
   "execution_count": null,
   "metadata": {},
   "outputs": [],
   "source": [
    "with open('./data/train.pkl', 'rb') as f2:\n",
    "    train_data = pickle.load(f2)"
   ]
  },
  {
   "cell_type": "code",
   "execution_count": null,
   "metadata": {},
   "outputs": [],
   "source": [
    "train_data = np.array(train_data)\n",
    "np.random.shuffle(train_data)\n",
    "models = np.array_split(train_data, 10)\n",
    "train_x=[]\n",
    "train_y=[]\n",
    "for model_num in range(10):\n",
    "    train_x.append(models[model_num][:, 0])\n",
    "    train_y.append(models[model_num][:, 1])\n",
    "train_x =np.array(train_x)\n",
    "train_y=np.array(train_y)\n",
    "bias=[]\n",
    "vari=[]"
   ]
  },
  {
   "cell_type": "code",
   "execution_count": null,
   "metadata": {},
   "outputs": [],
   "source": [
    "# outputs\n",
    "output=[]\n",
    "#loop through degrees\n",
    "for degree in range(1,21):\n",
    "    # loop through models\n",
    "    output.append([])\n",
    "    for i in range(10):\n",
    "        x_train = PolynomialFeatures(degree=degree).fit_transform(train_x[i].reshape(-1,1))\n",
    "        x_test = PolynomialFeatures(degree=degree).fit_transform(test_x.reshape(-1,1))\n",
    "        curr_model = LinearRegression().fit(x_train,train_y[i])\n",
    "        output[degree-1].append(curr_model.predict(x_test))"
   ]
  },
  {
   "cell_type": "code",
   "execution_count": 23,
   "metadata": {},
   "outputs": [],
   "source": [
    "def bias_var():\n",
    "    global bias\n",
    "    global bias_sq\n",
    "    global vari\n",
    "    global bias_per_point\n",
    "    global bias_sq_per_point\n",
    "    global vari_per_point\n",
    "    global bias_per_model\n",
    "    global bias_sq_per_model\n",
    "    global vari_per_model\n",
    "    \n",
    "    bias = []\n",
    "    bias_sq = []\n",
    "    vari = []\n",
    "    bias_per_point = []\n",
    "    bias_sq_per_point = []\n",
    "    vari_per_point = []\n",
    "    bias_per_model = []\n",
    "    bias_sq_per_model = []\n",
    "    vari_per_model = []\n",
    "    \n",
    "    actual_f = np.array(test_y)\n",
    "    exp_actual_f = np.mean(actual_f)\n",
    "    \n",
    "    for degree in range(1, 21):\n",
    "        bias_per_point.append([])\n",
    "        bias_sq_per_point.append([])\n",
    "        vari_per_point.append([])\n",
    "        bias_per_model.append([])\n",
    "        bias_sq_per_model.append([])\n",
    "        vari_per_model.append([])\n",
    "        \n",
    "        for i in range(10):\n",
    "            bias_per_point[degree-1].append([])\n",
    "            bias_sq_per_point[degree-1].append([])\n",
    "            vari_per_point[degree-1].append([])\n",
    "            mean_val = np.mean(np.array(output[degree-1][i]))\n",
    "            \n",
    "            for j in range(len(output[degree-1][i])):\n",
    "                bias_per_point[degree-1][i].append(mean_val - actual_f[j])\n",
    "                bias_sq_per_point[degree-1][i].append((mean_val - actual_f[j])**2)\n",
    "                vari_per_point[degree-1][i].append((mean_val - output[degree-1][i][j])**2)\n",
    "            \n",
    "            bias_per_model[degree-1].append(np.mean(np.array(bias_per_point[degree-1][i])))\n",
    "            bias_sq_per_model[degree-1].append(np.mean(np.array(bias_sq_per_point[degree-1][i])))\n",
    "            vari_per_model[degree-1].append(np.mean(np.array(vari_per_point[degree-1][i])))\n",
    "        \n",
    "        bias.append(np.mean(np.array(bias_per_model[degree-1])))\n",
    "        bias_sq.append(np.mean(np.array(bias_sq_per_model[degree-1])))\n",
    "        vari.append(np.mean(np.array(vari_per_model[degree-1])))\n",
    "        \n",
    "            \n",
    "    \"\"\"for degree in range(1,21):\n",
    "        output_curr_degree= output[degree-1]\n",
    "        output_curr_degree=np.array(output_curr_degree)\n",
    "        mean_point_over_10 = np.mean(output_curr_degree, axis = 0)\n",
    "        bias.append(np.mean((mean_point_over_10 - test_y)**2))\n",
    "        var_point_over_10 = np.var(output_curr_degree, axis = 0)\n",
    "        vari.append(np.mean(var_point_over_10))\"\"\"\n",
    "    \n",
    "    table = pd.DataFrame({\"Degree\":np.arange(1,21),\"Bias square\": bias_sq,\"Variance\": vari})\n",
    "    print(table.to_string(index=False))\n",
    "        \n",
    "    \n",
    "    \n",
    "    "
   ]
  },
  {
   "cell_type": "code",
   "execution_count": 21,
   "metadata": {},
   "outputs": [
    {
     "ename": "NameError",
     "evalue": "name 'test_y' is not defined",
     "output_type": "error",
     "traceback": [
      "\u001b[0;31m---------------------------------------------------------------------------\u001b[0m",
      "\u001b[0;31mNameError\u001b[0m                                 Traceback (most recent call last)",
      "\u001b[0;32m<ipython-input-21-d4556dfec76d>\u001b[0m in \u001b[0;36m<module>\u001b[0;34m\u001b[0m\n\u001b[0;32m----> 1\u001b[0;31m \u001b[0mbias_var\u001b[0m\u001b[0;34m(\u001b[0m\u001b[0;34m)\u001b[0m\u001b[0;34m\u001b[0m\u001b[0;34m\u001b[0m\u001b[0m\n\u001b[0m",
      "\u001b[0;32m<ipython-input-20-dbd7672691fe>\u001b[0m in \u001b[0;36mbias_var\u001b[0;34m()\u001b[0m\n\u001b[1;32m     20\u001b[0m     \u001b[0mvari_per_model\u001b[0m \u001b[0;34m=\u001b[0m \u001b[0;34m[\u001b[0m\u001b[0;34m]\u001b[0m\u001b[0;34m\u001b[0m\u001b[0;34m\u001b[0m\u001b[0m\n\u001b[1;32m     21\u001b[0m \u001b[0;34m\u001b[0m\u001b[0m\n\u001b[0;32m---> 22\u001b[0;31m     \u001b[0mactual_f\u001b[0m \u001b[0;34m=\u001b[0m \u001b[0mnp\u001b[0m\u001b[0;34m.\u001b[0m\u001b[0marray\u001b[0m\u001b[0;34m(\u001b[0m\u001b[0mtest_y\u001b[0m\u001b[0;34m)\u001b[0m\u001b[0;34m\u001b[0m\u001b[0;34m\u001b[0m\u001b[0m\n\u001b[0m\u001b[1;32m     23\u001b[0m     \u001b[0mexp_actual_f\u001b[0m \u001b[0;34m=\u001b[0m \u001b[0mnp\u001b[0m\u001b[0;34m.\u001b[0m\u001b[0mmean\u001b[0m\u001b[0;34m(\u001b[0m\u001b[0mactual_f\u001b[0m\u001b[0;34m)\u001b[0m\u001b[0;34m\u001b[0m\u001b[0;34m\u001b[0m\u001b[0m\n\u001b[1;32m     24\u001b[0m \u001b[0;34m\u001b[0m\u001b[0m\n",
      "\u001b[0;31mNameError\u001b[0m: name 'test_y' is not defined"
     ]
    }
   ],
   "source": [
    "bias_var()"
   ]
  },
  {
   "cell_type": "code",
   "execution_count": null,
   "metadata": {},
   "outputs": [],
   "source": []
  },
  {
   "cell_type": "code",
   "execution_count": null,
   "metadata": {},
   "outputs": [],
   "source": []
  },
  {
   "cell_type": "code",
   "execution_count": null,
   "metadata": {},
   "outputs": [],
   "source": []
  },
  {
   "cell_type": "code",
   "execution_count": null,
   "metadata": {},
   "outputs": [],
   "source": []
  },
  {
   "cell_type": "code",
   "execution_count": null,
   "metadata": {},
   "outputs": [],
   "source": []
  },
  {
   "cell_type": "code",
   "execution_count": null,
   "metadata": {},
   "outputs": [],
   "source": []
  }
 ],
 "metadata": {
  "kernelspec": {
   "display_name": "Python 3",
   "language": "python",
   "name": "python3"
  },
  "language_info": {
   "codemirror_mode": {
    "name": "ipython",
    "version": 3
   },
   "file_extension": ".py",
   "mimetype": "text/x-python",
   "name": "python",
   "nbconvert_exporter": "python",
   "pygments_lexer": "ipython3",
   "version": "3.8.0"
  }
 },
 "nbformat": 4,
 "nbformat_minor": 4
}
